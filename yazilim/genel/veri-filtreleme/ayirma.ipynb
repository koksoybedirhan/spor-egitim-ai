{
 "cells": [
  {
   "cell_type": "code",
   "execution_count": 1,
   "id": "5f28bc12-c2b1-421b-8bd2-04a8768fd2f8",
   "metadata": {},
   "outputs": [],
   "source": [
    "import pandas as pd"
   ]
  },
  {
   "cell_type": "code",
   "execution_count": 2,
   "id": "2b8a739c-6e27-43e1-80c1-0e14699dcc92",
   "metadata": {},
   "outputs": [],
   "source": [
    "file_path = \"ham-veriler.xlsx\"\n",
    "df = pd.read_excel(file_path)"
   ]
  },
  {
   "cell_type": "code",
   "execution_count": 3,
   "id": "39498108-1469-43a6-9ca3-409d215218b3",
   "metadata": {},
   "outputs": [],
   "source": [
    "column_mapping = {\n",
    "    \"Yaşınız\": \"yas\",\n",
    "    \"Cinsiyet\": \"cinsiyet\",\n",
    "    \"Eğitim Seviyesi\": \"egitim\",\n",
    "    \"Bedensel Spor-1 [Haftalık Antrenman Sıklığı (Gün)]\": \"bedensporgun\",\n",
    "    \"Bedensel Spor-2 [Antrenmanda Harcanan Süre (Dakika)]\": \"bedensporsure\",\n",
    "    \"Bedensel Spor-3 [Antrenman Yoruculuk Düzeyi (0-10)]\": \"bedenyoruculuk\",\n",
    "    \"Bedensel Spor-3 [Takım Sporu Yapma Oranı (0-10)]\": \"bedensportakim\",\n",
    "    \"Zihinsel Spor-1 [Haftalık Aktivite Sıklığı (Gün)]\": \"zihinsporgun\",\n",
    "    \"Zihinsel Spor-2 [Aktivitede Harcanan Süre (Dakika)]\": \"zihinsporsure\",\n",
    "    \"Zihinsel Spor-3 [Aktivite Zorluk Düzeyi (0-10)]\": \"zihinyoruculuk\",\n",
    "    \"Zihinsel Spor-3 [Takım Sporu Yapma Oranı (0-10)]\": \"zihinsportakim\",\n",
    "    \"Okul Başarısı [Not Ortalaması]\": \"not\",\n",
    "    \"Ders Zamanı [Ders Çalışmak İçin Harcanan Saat (Haftalık)]\": \"derszamani\",\n",
    "    \"Ders Katılımı [Ortalama Bir Ders İçin Devamsızlık Günü Durumu (Dönemlik)]\": \"derskatilim\",\n",
    "    \"Zaman Yönetimi [Kişisel Plan Yapma Alışkanlığı (0-10)]\": \"kisiselplan\",\n",
    "    \"Zaman Yönetimi [Derslere Zamanında Gelme Oranı (0-10)]\": \"derszaman\",\n",
    "    \"Sosyal İlişkiler [Okul Arkadaşları ile İlişki (0-10)]\": \"okularkadas\",\n",
    "    \"Sosyal İlişkiler [Kulüp, Proje Gibi Grup Çalışmalarına Katılım(0-10)]\": \"grupcalisma\",\n",
    "    \"Zihinsel Sağlık [Ders Bazlı Ortalama Stres Düzeyi (0-10)]\": \"dersstresi\",\n",
    "    \"Zihinsel Sağlık [Ders Bazlı Zihinsel Yorgunluk Düzeyi (0-10)]\": \"dersyorgunluk\",\n",
    "    \"Özgüven ve Liderlik [Gruplarda Liderlik Rolünü Üstlenme (0-10)]\": \"liderlik\",\n",
    "    \"Özgüven ve Liderlik [Okul İçi Özgüven Seviyesi (0-10)]\": \"ozguven\"\n",
    "}"
   ]
  },
  {
   "cell_type": "code",
   "execution_count": 4,
   "id": "09504fea-e039-49a1-9ea2-3e75c7adf136",
   "metadata": {},
   "outputs": [],
   "source": [
    "filtered_df = df[list(column_mapping.keys())].rename(columns=column_mapping)"
   ]
  },
  {
   "cell_type": "code",
   "execution_count": 5,
   "id": "4f4aaa02-2d3b-49a1-a33c-0a4e3a85d84a",
   "metadata": {},
   "outputs": [],
   "source": [
    "df_filtered = df[df[\"Eğitim Seviyesi\"].isin([\"Üniversite\", \"Yüksek Lisans - Doktora\"])]"
   ]
  },
  {
   "cell_type": "code",
   "execution_count": 6,
   "id": "5136154f-bb24-47a9-b53b-093e320e3491",
   "metadata": {},
   "outputs": [],
   "source": [
    "output_file = \"genel-ayrilmis.xlsx\"\n",
    "filtered_df.to_excel(output_file, index=False)"
   ]
  },
  {
   "cell_type": "code",
   "execution_count": null,
   "id": "22b46835-3b2e-4652-a723-afb1655c4465",
   "metadata": {},
   "outputs": [],
   "source": []
  },
  {
   "cell_type": "code",
   "execution_count": null,
   "id": "7f3ab5cf-7b8f-462c-b26d-91512f077f9b",
   "metadata": {},
   "outputs": [],
   "source": []
  }
 ],
 "metadata": {
  "kernelspec": {
   "display_name": "Python 3 (ipykernel)",
   "language": "python",
   "name": "python3"
  },
  "language_info": {
   "codemirror_mode": {
    "name": "ipython",
    "version": 3
   },
   "file_extension": ".py",
   "mimetype": "text/x-python",
   "name": "python",
   "nbconvert_exporter": "python",
   "pygments_lexer": "ipython3",
   "version": "3.11.7"
  }
 },
 "nbformat": 4,
 "nbformat_minor": 5
}
