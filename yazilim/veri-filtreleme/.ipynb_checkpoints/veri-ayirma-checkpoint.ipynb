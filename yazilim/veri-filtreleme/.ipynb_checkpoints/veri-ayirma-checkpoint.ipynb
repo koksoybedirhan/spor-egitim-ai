{
 "cells": [
  {
   "cell_type": "code",
   "execution_count": 36,
   "id": "178c939c-9483-4e80-9f19-0aea095c9d79",
   "metadata": {
    "tags": []
   },
   "outputs": [],
   "source": [
    "import pandas as pd"
   ]
  },
  {
   "cell_type": "code",
   "execution_count": 37,
   "id": "353ea9d1-08cd-46bc-b5aa-e8b57db62ef1",
   "metadata": {
    "tags": []
   },
   "outputs": [],
   "source": [
    "file_path = \"ham-veriler.xlsx\"\n",
    "df = pd.read_excel(file_path)"
   ]
  },
  {
   "cell_type": "code",
   "execution_count": 38,
   "id": "fe2178cb-a9ce-47b6-84c4-cf4aeb0cf42e",
   "metadata": {
    "tags": []
   },
   "outputs": [],
   "source": [
    "column_mapping = {\n",
    "    \"Yaşınız\": \"yas\",\n",
    "    \"Bedensel Spor-1 [Haftalık Antrenman Sıklığı (Gün)]\": \"sporgun\",\n",
    "    \"Bedensel Spor-2 [Antrenmanda Harcanan Süre (Dakika)]\": \"sporsure\",\n",
    "    \"Bedensel Spor-3 [Takım Sporu Yapma Oranı (0-10)]\": \"sportakim\",\n",
    "    \"Okul Başarısı [Not Ortalaması]\": \"not\"\n",
    "}"
   ]
  },
  {
   "cell_type": "code",
   "execution_count": 39,
   "id": "a88b70e3-cb82-4a50-a512-19f89a5e7371",
   "metadata": {
    "tags": []
   },
   "outputs": [],
   "source": [
    "filtered_df = df[list(column_mapping.keys())].rename(columns=column_mapping)"
   ]
  },
  {
   "cell_type": "code",
   "execution_count": 41,
   "id": "0318d7e1-5a8c-405c-93b1-2024234c515c",
   "metadata": {
    "tags": []
   },
   "outputs": [],
   "source": [
    "output_file = \"filtrelenmis-veriler.csv\"\n",
    "filtered_df.to_csv(output_file, index=False, sep=',')"
   ]
  }
 ],
 "metadata": {
  "kernelspec": {
   "display_name": "Python 3 (ipykernel)",
   "language": "python",
   "name": "python3"
  },
  "language_info": {
   "codemirror_mode": {
    "name": "ipython",
    "version": 3
   },
   "file_extension": ".py",
   "mimetype": "text/x-python",
   "name": "python",
   "nbconvert_exporter": "python",
   "pygments_lexer": "ipython3",
   "version": "3.11.7"
  }
 },
 "nbformat": 4,
 "nbformat_minor": 5
}
