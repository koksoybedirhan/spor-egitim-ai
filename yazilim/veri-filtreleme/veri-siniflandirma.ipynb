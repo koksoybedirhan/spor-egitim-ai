{
 "cells": [
  {
   "cell_type": "code",
   "execution_count": 42,
   "id": "178c939c-9483-4e80-9f19-0aea095c9d79",
   "metadata": {
    "tags": []
   },
   "outputs": [],
   "source": [
    "import pandas as pd"
   ]
  },
  {
   "cell_type": "code",
   "execution_count": 43,
   "id": "353ea9d1-08cd-46bc-b5aa-e8b57db62ef1",
   "metadata": {
    "tags": []
   },
   "outputs": [],
   "source": [
    "file_path = \"ham-veriler.xlsx\"\n",
    "df = pd.read_excel(file_path)"
   ]
  },
  {
   "cell_type": "code",
   "execution_count": 44,
   "id": "fe2178cb-a9ce-47b6-84c4-cf4aeb0cf42e",
   "metadata": {
    "tags": []
   },
   "outputs": [],
   "source": [
    "column_mapping = {\n",
    "    \"Yaşınız\": \"yas\",\n",
    "    \"Bedensel Spor-1 [Haftalık Antrenman Sıklığı (Gün)]\": \"sporgun\",\n",
    "    \"Bedensel Spor-2 [Antrenmanda Harcanan Süre (Dakika)]\": \"sporsure\",\n",
    "    \"Bedensel Spor-3 [Takım Sporu Yapma Oranı (0-10)]\": \"sportakim\",\n",
    "    \"Okul Başarısı [Not Ortalaması]\": \"not\"\n",
    "}"
   ]
  },
  {
   "cell_type": "code",
   "execution_count": 45,
   "id": "a88b70e3-cb82-4a50-a512-19f89a5e7371",
   "metadata": {
    "tags": []
   },
   "outputs": [],
   "source": [
    "filtered_df = df[list(column_mapping.keys())].rename(columns=column_mapping)"
   ]
  },
  {
   "cell_type": "code",
   "execution_count": 46,
   "id": "3b5f4ca9-b60e-4c1e-87d8-774227ec11f7",
   "metadata": {
    "tags": []
   },
   "outputs": [],
   "source": [
    "# sporgun için kategoriler\n",
    "sporgun_map = {\n",
    "    \"0\": 0, \"1\": 1, \"2\": 2,\n",
    "    \"3-4\": 3, \"5-6\": 3, \"7\": 3\n",
    "}\n",
    "filtered_df[\"sporgun\"] = filtered_df[\"sporgun\"].map(sporgun_map).fillna(filtered_df[\"sporgun\"])\n",
    "\n",
    "# sporsure için kategoriler\n",
    "sporsure_map = {\n",
    "    \"0\": 0, \"1-30\": 1, \"31-60\": 2,\n",
    "    \"61-90\": 3, \"91-120\": 3, \"121+\": 3\n",
    "}\n",
    "filtered_df[\"sporsure\"] = filtered_df[\"sporsure\"].map(sporsure_map).fillna(filtered_df[\"sporsure\"])\n",
    "\n",
    "# sportakim için kategoriler\n",
    "sportakim_map = {\n",
    "    \"0\": 0, \"1-2\": 1, \"3-4\": 1, \"5-6\": 1, \"7-8\": 1, \"9-10\": 1\n",
    "}\n",
    "filtered_df[\"sportakim\"] = filtered_df[\"sportakim\"].map(sportakim_map).fillna(filtered_df[\"sportakim\"])\n",
    "\n",
    "# not için kategoriler\n",
    "not_map = {\n",
    "    \"0-25\": 0, \"26-40\": 0, \"41-55\": 0, \"56-70\": 0,\n",
    "    \"71-85\": 1, \"86-100\": 2\n",
    "}\n",
    "filtered_df[\"not\"] = filtered_df[\"not\"].map(not_map).fillna(filtered_df[\"not\"])"
   ]
  },
  {
   "cell_type": "code",
   "execution_count": 47,
   "id": "0318d7e1-5a8c-405c-93b1-2024234c515c",
   "metadata": {
    "tags": []
   },
   "outputs": [],
   "source": [
    "output_file = \"siniflandirilmis-veriler.csv\"\n",
    "filtered_df.to_csv(output_file, index=False, sep=',')"
   ]
  },
  {
   "cell_type": "code",
   "execution_count": null,
   "id": "60123e59-2b40-4b2f-8d38-64bbf3c04e7f",
   "metadata": {},
   "outputs": [],
   "source": []
  }
 ],
 "metadata": {
  "kernelspec": {
   "display_name": "Python 3 (ipykernel)",
   "language": "python",
   "name": "python3"
  },
  "language_info": {
   "codemirror_mode": {
    "name": "ipython",
    "version": 3
   },
   "file_extension": ".py",
   "mimetype": "text/x-python",
   "name": "python",
   "nbconvert_exporter": "python",
   "pygments_lexer": "ipython3",
   "version": "3.11.7"
  }
 },
 "nbformat": 4,
 "nbformat_minor": 5
}
