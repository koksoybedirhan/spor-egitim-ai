{
 "cells": [
  {
   "cell_type": "code",
   "execution_count": 1,
   "id": "178c939c-9483-4e80-9f19-0aea095c9d79",
   "metadata": {
    "tags": []
   },
   "outputs": [],
   "source": [
    "import pandas as pd"
   ]
  },
  {
   "cell_type": "code",
   "execution_count": 2,
   "id": "353ea9d1-08cd-46bc-b5aa-e8b57db62ef1",
   "metadata": {
    "tags": []
   },
   "outputs": [],
   "source": [
    "file_path = \"ham-veriler.xlsx\"\n",
    "df = pd.read_excel(file_path)"
   ]
  },
  {
   "cell_type": "code",
   "execution_count": 3,
   "id": "fe2178cb-a9ce-47b6-84c4-cf4aeb0cf42e",
   "metadata": {
    "tags": []
   },
   "outputs": [],
   "source": [
    "column_mapping = {\n",
    "    \"Yaşınız\": \"yas\",\n",
    "    \"Cinsiyet\": \"cinsiyet\",\n",
    "    \"Eğitim Seviyesi\": \"egitim\",\n",
    "    \"Bedensel Spor-1 [Haftalık Antrenman Sıklığı (Gün)]\": \"sporgun\",\n",
    "    \"Bedensel Spor-2 [Antrenmanda Harcanan Süre (Dakika)]\": \"sporsure\",\n",
    "    \"Bedensel Spor-3 [Antrenman Yoruculuk Düzeyi (0-10)]\": \"yoruculuk\",\n",
    "    \"Bedensel Spor-3 [Takım Sporu Yapma Oranı (0-10)]\": \"sportakim\",\n",
    "    \"Bedensel Spor Yapma Amacınız Nedir?\": \"sporamac\",\n",
    "    \"Okul Başarısı [Not Ortalaması]\": \"not\"\n",
    "}"
   ]
  },
  {
   "cell_type": "code",
   "execution_count": 4,
   "id": "a88b70e3-cb82-4a50-a512-19f89a5e7371",
   "metadata": {
    "tags": []
   },
   "outputs": [],
   "source": [
    "filtered_df = df[list(column_mapping.keys())].rename(columns=column_mapping)"
   ]
  },
  {
   "cell_type": "code",
   "execution_count": 5,
   "id": "316b2843-27ad-40d6-97ec-d3a96250c93f",
   "metadata": {
    "tags": []
   },
   "outputs": [],
   "source": [
    "df_filtered = df[df[\"Eğitim Seviyesi\"].isin([\"Üniversite\", \"Yüksek Lisans - Doktora\"])]"
   ]
  },
  {
   "cell_type": "code",
   "execution_count": 6,
   "id": "0318d7e1-5a8c-405c-93b1-2024234c515c",
   "metadata": {
    "tags": []
   },
   "outputs": [],
   "source": [
    "output_file = \"ayrilmis-veriler-bedensel.xlsx\"\n",
    "filtered_df.to_excel(output_file, index=False)"
   ]
  }
 ],
 "metadata": {
  "kernelspec": {
   "display_name": "Python 3 (ipykernel)",
   "language": "python",
   "name": "python3"
  },
  "language_info": {
   "codemirror_mode": {
    "name": "ipython",
    "version": 3
   },
   "file_extension": ".py",
   "mimetype": "text/x-python",
   "name": "python",
   "nbconvert_exporter": "python",
   "pygments_lexer": "ipython3",
   "version": "3.11.7"
  }
 },
 "nbformat": 4,
 "nbformat_minor": 5
}
