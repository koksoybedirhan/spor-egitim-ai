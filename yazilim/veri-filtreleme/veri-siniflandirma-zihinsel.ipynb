{
 "cells": [
  {
   "cell_type": "code",
   "execution_count": 6,
   "id": "178c939c-9483-4e80-9f19-0aea095c9d79",
   "metadata": {
    "tags": []
   },
   "outputs": [],
   "source": [
    "import pandas as pd"
   ]
  },
  {
   "cell_type": "code",
   "execution_count": 7,
   "id": "353ea9d1-08cd-46bc-b5aa-e8b57db62ef1",
   "metadata": {
    "tags": []
   },
   "outputs": [],
   "source": [
    "file_path = \"ayrilmis-veriler-zihinsel.xlsx\"\n",
    "df = pd.read_excel(file_path)\n",
    "filtered_df = df.copy()"
   ]
  },
  {
   "cell_type": "code",
   "execution_count": 8,
   "id": "943d9cb4-1df6-4939-80d8-82564f05e349",
   "metadata": {
    "tags": []
   },
   "outputs": [],
   "source": [
    "filtered_df = filtered_df[filtered_df[\"egitim\"].isin([\"Üniversite\", \"Yüksek Lisans - Doktora\"])]\n",
    "\n",
    "# cinsiyet için kategoriler\n",
    "cinsiyet_map = {\n",
    "    \"Erkek\": 1, \"Kadın\": 2\n",
    "}\n",
    "filtered_df[\"cinsiyet\"] = filtered_df[\"cinsiyet\"].map(cinsiyet_map).fillna(filtered_df[\"cinsiyet\"])\n",
    "\n",
    "# eğitim için kategoriler\n",
    "egitim_map = {\n",
    "    \"Üniversite\": 1, \"Yüksek Lisans - Doktora\": 2\n",
    "}\n",
    "filtered_df[\"egitim\"] = filtered_df[\"egitim\"].map(egitim_map).fillna(filtered_df[\"egitim\"])\n",
    "\n",
    "# sporsure için kategoriler\n",
    "sporsure_map = {\n",
    "    \"0\": 1, \"1-30\": 2, \"31-60\": 3,\n",
    "    \"61-90\": 4, \"91-120\": 4, \"121+\": 4\n",
    "}\n",
    "filtered_df[\"sporsure\"] = filtered_df[\"sporsure\"].map(sporsure_map).fillna(filtered_df[\"sporsure\"])\n",
    "\n",
    "# sporgun için kategoriler\n",
    "sporgun_map = {\n",
    "    \"0\": 1, \"1\": 2, \"2\": 3,\n",
    "    \"3-4\": 4, \"5-6\": 5, \"7\": 5\n",
    "}\n",
    "filtered_df[\"sporgun\"] = filtered_df[\"sporgun\"].map(sporgun_map).fillna(filtered_df[\"sporgun\"])\n",
    "\n",
    "# yoruculuk için kategoriler\n",
    "yoruculuk_map = {\n",
    "    \"0\": 1, \"1-2\": 2, \"3-4\": 3, \"5-6\": 4, \"7-8\": 5, \"9-10\": 5\n",
    "}\n",
    "filtered_df[\"yoruculuk\"] = filtered_df[\"yoruculuk\"].map(yoruculuk_map).fillna(filtered_df[\"yoruculuk\"])\n",
    "\n",
    "# sportakim için kategoriler\n",
    "sportakim_map = {\n",
    "    \"0\": 1, \"1-2\": 2, \"3-4\": 2, \"5-6\": 2, \"7-8\": 2, \"9-10\": 2\n",
    "}\n",
    "filtered_df[\"sportakim\"] = filtered_df[\"sportakim\"].map(sportakim_map).fillna(filtered_df[\"sportakim\"])\n",
    "\n",
    "# sporamac için kategoriler\n",
    "sporamac_map = {\n",
    "    \"Problem Çözme Becerilerini geliştirmek\": 1, \"Zihinsel Gelişim\": 2, \"Kendime Meydan Okumak\": 3, \"Eğlenmek\": 4, \"Başarma İsteği\": 5\n",
    "}\n",
    "filtered_df[\"sporamac\"] = filtered_df[\"sporamac\"].map(sporamac_map).fillna(filtered_df[\"sporamac\"])\n",
    "\n",
    "# not için kategoriler\n",
    "not_map = {\n",
    "    \"0-25\": 1, \"26-40\": 2, \"41-55\": 3, \"56-70\": 4,\n",
    "    \"71-85\": 5, \"86-100\": 6\n",
    "}\n",
    "filtered_df[\"not\"] = filtered_df[\"not\"].map(not_map).fillna(filtered_df[\"not\"])"
   ]
  },
  {
   "cell_type": "code",
   "execution_count": 9,
   "id": "0318d7e1-5a8c-405c-93b1-2024234c515c",
   "metadata": {
    "tags": []
   },
   "outputs": [],
   "source": [
    "output_file = \"siniflandirilmis-veriler-zihinsel.csv\"\n",
    "filtered_df.to_csv(output_file, index=False, sep=',')"
   ]
  },
  {
   "cell_type": "code",
   "execution_count": null,
   "id": "9b64c755-ba57-4e11-bab6-22abad193c3a",
   "metadata": {},
   "outputs": [],
   "source": []
  }
 ],
 "metadata": {
  "kernelspec": {
   "display_name": "Python 3 (ipykernel)",
   "language": "python",
   "name": "python3"
  },
  "language_info": {
   "codemirror_mode": {
    "name": "ipython",
    "version": 3
   },
   "file_extension": ".py",
   "mimetype": "text/x-python",
   "name": "python",
   "nbconvert_exporter": "python",
   "pygments_lexer": "ipython3",
   "version": "3.11.7"
  }
 },
 "nbformat": 4,
 "nbformat_minor": 5
}
